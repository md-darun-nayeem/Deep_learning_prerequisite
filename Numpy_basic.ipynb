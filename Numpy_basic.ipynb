{
  "nbformat": 4,
  "nbformat_minor": 0,
  "metadata": {
    "colab": {
      "provenance": [],
      "authorship_tag": "ABX9TyM0iaKYtiZqzuIOVnK/adby",
      "include_colab_link": true
    },
    "kernelspec": {
      "name": "python3",
      "display_name": "Python 3"
    },
    "language_info": {
      "name": "python"
    }
  },
  "cells": [
    {
      "cell_type": "markdown",
      "metadata": {
        "id": "view-in-github",
        "colab_type": "text"
      },
      "source": [
        "<a href=\"https://colab.research.google.com/github/md-darun-nayeem/Deep_learning_prerequisite/blob/main/Numpy_basic.ipynb\" target=\"_parent\"><img src=\"https://colab.research.google.com/assets/colab-badge.svg\" alt=\"Open In Colab\"/></a>"
      ]
    },
    {
      "cell_type": "markdown",
      "source": [
        "\n",
        "What is numpy?\n",
        "\n",
        "NumPy is the fundamental package for scientific computing in Python. It is a Python library that provides a multidimensional array object, various derived objects (such as masked arrays and matrices), and an assortment of routines for fast operations on arrays, including mathematical, logical, shape manipulation, sorting, selecting, I/O, discrete Fourier transforms, basic linear algebra, basic statistical operations, random simulation and much more.\n",
        "\n",
        "At the core of the NumPy package, is the ndarray object. This encapsulates n-dimensional arrays of homogeneous data types\n"
      ],
      "metadata": {
        "id": "YXj2CesX67jf"
      }
    },
    {
      "cell_type": "markdown",
      "source": [
        "\n",
        "Numpy Arrays Vs Python Sequences\n",
        "\n",
        "    NumPy arrays have a fixed size at creation, unlike Python lists (which can grow dynamically). Changing the size of an ndarray will create a new array and delete the original.\n",
        "\n",
        "    The elements in a NumPy array are all required to be of the same data type, and thus will be the same size in memory.\n",
        "\n",
        "    NumPy arrays facilitate advanced mathematical and other types of operations on large numbers of data. Typically, such operations are executed more efficiently and with less code than is possible using Python’s built-in sequences.\n",
        "\n",
        "    A growing plethora of scientific and mathematical Python-based packages are using NumPy arrays; though these typically support Python-sequence input, they convert such input to NumPy arrays prior to processing, and they often output NumPy arrays.\n",
        "\n"
      ],
      "metadata": {
        "id": "iYtq5kyR7Pc7"
      }
    },
    {
      "cell_type": "code",
      "source": [
        "# np.array\n",
        "import numpy as np\n",
        "\n",
        "a = np.array([1,2,3])\n",
        "print(type(a))"
      ],
      "metadata": {
        "colab": {
          "base_uri": "https://localhost:8080/"
        },
        "id": "Lcu7JKtV7U1q",
        "outputId": "9b0b136a-52b9-4625-bfd4-ec6539cbd4ad"
      },
      "execution_count": 1,
      "outputs": [
        {
          "output_type": "stream",
          "name": "stdout",
          "text": [
            "<class 'numpy.ndarray'>\n"
          ]
        }
      ]
    },
    {
      "cell_type": "code",
      "source": [
        "print(a)"
      ],
      "metadata": {
        "colab": {
          "base_uri": "https://localhost:8080/"
        },
        "id": "5LRgyhc97U4X",
        "outputId": "6a78cf84-b6f3-4e3e-cef8-d50fee9f26a1"
      },
      "execution_count": 2,
      "outputs": [
        {
          "output_type": "stream",
          "name": "stdout",
          "text": [
            "[1 2 3]\n"
          ]
        }
      ]
    },
    {
      "cell_type": "code",
      "source": [
        "# 2D and 3D\n",
        "b = np.array([[1,2,3],[4,5,6]])\n",
        "print(b)"
      ],
      "metadata": {
        "colab": {
          "base_uri": "https://localhost:8080/"
        },
        "id": "ZHInyPjg7U7f",
        "outputId": "b514c4d2-69ab-47dd-e757-98e7119a2fb6"
      },
      "execution_count": 3,
      "outputs": [
        {
          "output_type": "stream",
          "name": "stdout",
          "text": [
            "[[1 2 3]\n",
            " [4 5 6]]\n"
          ]
        }
      ]
    },
    {
      "cell_type": "code",
      "execution_count": 4,
      "metadata": {
        "colab": {
          "base_uri": "https://localhost:8080/"
        },
        "id": "66AMsbRY6q3C",
        "outputId": "45355089-b46f-409a-f6e0-f90d52eb9bd0"
      },
      "outputs": [
        {
          "output_type": "stream",
          "name": "stdout",
          "text": [
            "[[[1 2]\n",
            "  [3 4]]\n",
            "\n",
            " [[5 6]\n",
            "  [7 8]]]\n"
          ]
        }
      ],
      "source": [
        "c = np.array([[[1,2],[3,4]],[[5,6],[7,8]]])\n",
        "print(c)"
      ]
    },
    {
      "cell_type": "code",
      "source": [
        "# dtype\n",
        "np.array([1,2,3],dtype=float)"
      ],
      "metadata": {
        "colab": {
          "base_uri": "https://localhost:8080/"
        },
        "id": "_aRImjpo99CN",
        "outputId": "286250f4-26f0-4242-8f34-9099339f33c4"
      },
      "execution_count": 5,
      "outputs": [
        {
          "output_type": "execute_result",
          "data": {
            "text/plain": [
              "array([1., 2., 3.])"
            ]
          },
          "metadata": {},
          "execution_count": 5
        }
      ]
    },
    {
      "cell_type": "code",
      "source": [
        "# np.arange\n",
        "np.arange(1,11,2)"
      ],
      "metadata": {
        "colab": {
          "base_uri": "https://localhost:8080/"
        },
        "id": "orbwl14N99Fe",
        "outputId": "82fce160-70d1-491a-b6bb-a5b5365e32cf"
      },
      "execution_count": 6,
      "outputs": [
        {
          "output_type": "execute_result",
          "data": {
            "text/plain": [
              "array([1, 3, 5, 7, 9])"
            ]
          },
          "metadata": {},
          "execution_count": 6
        }
      ]
    },
    {
      "cell_type": "code",
      "source": [
        "# with reshape\n",
        "np.arange(16).reshape(4,4)"
      ],
      "metadata": {
        "colab": {
          "base_uri": "https://localhost:8080/"
        },
        "id": "kP-ckX15-Iss",
        "outputId": "d5055bb4-3f5d-487b-8552-2893613f7e75"
      },
      "execution_count": 7,
      "outputs": [
        {
          "output_type": "execute_result",
          "data": {
            "text/plain": [
              "array([[ 0,  1,  2,  3],\n",
              "       [ 4,  5,  6,  7],\n",
              "       [ 8,  9, 10, 11],\n",
              "       [12, 13, 14, 15]])"
            ]
          },
          "metadata": {},
          "execution_count": 7
        }
      ]
    },
    {
      "cell_type": "code",
      "source": [
        "# np.ones and np.zeros\n",
        "np.ones((3,4))"
      ],
      "metadata": {
        "colab": {
          "base_uri": "https://localhost:8080/"
        },
        "id": "pwctVBHS-IvW",
        "outputId": "67bc5ef7-14b4-416a-b055-1f6369c86a81"
      },
      "execution_count": 8,
      "outputs": [
        {
          "output_type": "execute_result",
          "data": {
            "text/plain": [
              "array([[1., 1., 1., 1.],\n",
              "       [1., 1., 1., 1.],\n",
              "       [1., 1., 1., 1.]])"
            ]
          },
          "metadata": {},
          "execution_count": 8
        }
      ]
    },
    {
      "cell_type": "code",
      "source": [
        "np.zeros((3,4))"
      ],
      "metadata": {
        "colab": {
          "base_uri": "https://localhost:8080/"
        },
        "id": "Ipptz666-IyY",
        "outputId": "57313885-e47f-4338-ff19-a39c580683b3"
      },
      "execution_count": 9,
      "outputs": [
        {
          "output_type": "execute_result",
          "data": {
            "text/plain": [
              "array([[0., 0., 0., 0.],\n",
              "       [0., 0., 0., 0.],\n",
              "       [0., 0., 0., 0.]])"
            ]
          },
          "metadata": {},
          "execution_count": 9
        }
      ]
    },
    {
      "cell_type": "code",
      "source": [
        "# np.random\n",
        "np.random.random((3,4))"
      ],
      "metadata": {
        "colab": {
          "base_uri": "https://localhost:8080/"
        },
        "id": "-MmWDmgy-2Bj",
        "outputId": "3a61126c-ba5d-4470-919a-ab5fc389fe6b"
      },
      "execution_count": 10,
      "outputs": [
        {
          "output_type": "execute_result",
          "data": {
            "text/plain": [
              "array([[0.78245405, 0.20239501, 0.59983564, 0.10659056],\n",
              "       [0.8299032 , 0.38311453, 0.48025677, 0.61678086],\n",
              "       [0.56659276, 0.97937544, 0.60414017, 0.78109014]])"
            ]
          },
          "metadata": {},
          "execution_count": 10
        }
      ]
    },
    {
      "cell_type": "code",
      "source": [
        "# np.linspace\n",
        "np.linspace(-10,10,8,dtype=int)"
      ],
      "metadata": {
        "colab": {
          "base_uri": "https://localhost:8080/"
        },
        "id": "feOstpRp-2Ed",
        "outputId": "b7b762a6-8445-4bff-c744-3be9d2c26230"
      },
      "execution_count": 11,
      "outputs": [
        {
          "output_type": "execute_result",
          "data": {
            "text/plain": [
              "array([-10,  -8,  -5,  -2,   1,   4,   7,  10])"
            ]
          },
          "metadata": {},
          "execution_count": 11
        }
      ]
    },
    {
      "cell_type": "code",
      "source": [
        "# np.identity\n",
        "np.identity(3)"
      ],
      "metadata": {
        "colab": {
          "base_uri": "https://localhost:8080/"
        },
        "id": "qFSlmkIr-2HY",
        "outputId": "a258ad54-52a8-4cfe-f2e1-ac3ded5162bb"
      },
      "execution_count": 12,
      "outputs": [
        {
          "output_type": "execute_result",
          "data": {
            "text/plain": [
              "array([[1., 0., 0.],\n",
              "       [0., 1., 0.],\n",
              "       [0., 0., 1.]])"
            ]
          },
          "metadata": {},
          "execution_count": 12
        }
      ]
    },
    {
      "cell_type": "code",
      "source": [
        "a1 = np.arange(10,dtype=np.int32)\n",
        "a2 = np.arange(12,dtype=float).reshape(3,4)\n",
        "a3 = np.arange(8).reshape(2,2,2)\n",
        "\n",
        "a3"
      ],
      "metadata": {
        "colab": {
          "base_uri": "https://localhost:8080/"
        },
        "id": "n_8CGLad_IZ-",
        "outputId": "0362ea81-2a0f-4230-aa66-b8cfa8cb34ed"
      },
      "execution_count": 13,
      "outputs": [
        {
          "output_type": "execute_result",
          "data": {
            "text/plain": [
              "array([[[0, 1],\n",
              "        [2, 3]],\n",
              "\n",
              "       [[4, 5],\n",
              "        [6, 7]]])"
            ]
          },
          "metadata": {},
          "execution_count": 13
        }
      ]
    },
    {
      "cell_type": "code",
      "source": [
        "# ndim\n",
        "a3.ndim"
      ],
      "metadata": {
        "colab": {
          "base_uri": "https://localhost:8080/"
        },
        "id": "gB4O8utg_Idg",
        "outputId": "8af95405-7cc0-4278-e85b-9e63eedc7bc1"
      },
      "execution_count": 14,
      "outputs": [
        {
          "output_type": "execute_result",
          "data": {
            "text/plain": [
              "3"
            ]
          },
          "metadata": {},
          "execution_count": 14
        }
      ]
    },
    {
      "cell_type": "code",
      "source": [
        "# shape\n",
        "print(a3.shape)\n",
        "a3"
      ],
      "metadata": {
        "colab": {
          "base_uri": "https://localhost:8080/"
        },
        "id": "EkspkuqL_Igf",
        "outputId": "6e3564ef-c657-492c-cbd9-5c854b5d745e"
      },
      "execution_count": 15,
      "outputs": [
        {
          "output_type": "stream",
          "name": "stdout",
          "text": [
            "(2, 2, 2)\n"
          ]
        },
        {
          "output_type": "execute_result",
          "data": {
            "text/plain": [
              "array([[[0, 1],\n",
              "        [2, 3]],\n",
              "\n",
              "       [[4, 5],\n",
              "        [6, 7]]])"
            ]
          },
          "metadata": {},
          "execution_count": 15
        }
      ]
    },
    {
      "cell_type": "code",
      "source": [
        "# size\n",
        "print(a2.size)\n",
        "a2"
      ],
      "metadata": {
        "colab": {
          "base_uri": "https://localhost:8080/"
        },
        "id": "lqe0zh_r_Ijd",
        "outputId": "cb824e27-7335-4a16-eca6-8cacc24555a6"
      },
      "execution_count": 16,
      "outputs": [
        {
          "output_type": "stream",
          "name": "stdout",
          "text": [
            "12\n"
          ]
        },
        {
          "output_type": "execute_result",
          "data": {
            "text/plain": [
              "array([[ 0.,  1.,  2.,  3.],\n",
              "       [ 4.,  5.,  6.,  7.],\n",
              "       [ 8.,  9., 10., 11.]])"
            ]
          },
          "metadata": {},
          "execution_count": 16
        }
      ]
    },
    {
      "cell_type": "code",
      "source": [
        "# itemsize\n",
        "a3.itemsize"
      ],
      "metadata": {
        "colab": {
          "base_uri": "https://localhost:8080/"
        },
        "id": "wESZX_dXADKL",
        "outputId": "02c2e445-66ae-4e73-8606-cbb3ec9f1011"
      },
      "execution_count": 17,
      "outputs": [
        {
          "output_type": "execute_result",
          "data": {
            "text/plain": [
              "8"
            ]
          },
          "metadata": {},
          "execution_count": 17
        }
      ]
    },
    {
      "cell_type": "code",
      "source": [
        "# dtype\n",
        "print(a1.dtype)\n",
        "print(a2.dtype)\n",
        "print(a3.dtype)\n",
        "\n"
      ],
      "metadata": {
        "colab": {
          "base_uri": "https://localhost:8080/"
        },
        "id": "18qrBwnYADOq",
        "outputId": "4cc00163-4143-490c-f2e2-68c6e704a287"
      },
      "execution_count": 18,
      "outputs": [
        {
          "output_type": "stream",
          "name": "stdout",
          "text": [
            "int32\n",
            "float64\n",
            "int64\n"
          ]
        }
      ]
    },
    {
      "cell_type": "code",
      "source": [
        "# astype\n",
        "a3.astype(np.int32)"
      ],
      "metadata": {
        "colab": {
          "base_uri": "https://localhost:8080/"
        },
        "id": "Vml-xcJvALIP",
        "outputId": "8600121c-c3bb-4fb6-dffe-305034616529"
      },
      "execution_count": 19,
      "outputs": [
        {
          "output_type": "execute_result",
          "data": {
            "text/plain": [
              "array([[[0, 1],\n",
              "        [2, 3]],\n",
              "\n",
              "       [[4, 5],\n",
              "        [6, 7]]], dtype=int32)"
            ]
          },
          "metadata": {},
          "execution_count": 19
        }
      ]
    },
    {
      "cell_type": "code",
      "source": [
        "a1 = np.arange(12).reshape(3,4)\n",
        "a2 = np.arange(12,24).reshape(3,4)\n",
        "\n",
        "a2"
      ],
      "metadata": {
        "colab": {
          "base_uri": "https://localhost:8080/"
        },
        "id": "_wiN237KALLR",
        "outputId": "e9db1887-8c52-4c5d-f1be-471c76882508"
      },
      "execution_count": 20,
      "outputs": [
        {
          "output_type": "execute_result",
          "data": {
            "text/plain": [
              "array([[12, 13, 14, 15],\n",
              "       [16, 17, 18, 19],\n",
              "       [20, 21, 22, 23]])"
            ]
          },
          "metadata": {},
          "execution_count": 20
        }
      ]
    },
    {
      "cell_type": "code",
      "source": [
        "# scalar operations\n",
        "\n",
        "# arithmetic\n",
        "a1 ** 2"
      ],
      "metadata": {
        "colab": {
          "base_uri": "https://localhost:8080/"
        },
        "id": "np5nb48nADSF",
        "outputId": "d819f664-517a-4f94-dea0-76c95a018508"
      },
      "execution_count": 21,
      "outputs": [
        {
          "output_type": "execute_result",
          "data": {
            "text/plain": [
              "array([[  0,   1,   4,   9],\n",
              "       [ 16,  25,  36,  49],\n",
              "       [ 64,  81, 100, 121]])"
            ]
          },
          "metadata": {},
          "execution_count": 21
        }
      ]
    },
    {
      "cell_type": "code",
      "source": [
        "# relational\n",
        "a2 == 15"
      ],
      "metadata": {
        "colab": {
          "base_uri": "https://localhost:8080/"
        },
        "id": "Tbs0aBJL99Ix",
        "outputId": "d22ea978-8714-4c77-f348-d258baf8f3f9"
      },
      "execution_count": 22,
      "outputs": [
        {
          "output_type": "execute_result",
          "data": {
            "text/plain": [
              "array([[False, False, False,  True],\n",
              "       [False, False, False, False],\n",
              "       [False, False, False, False]])"
            ]
          },
          "metadata": {},
          "execution_count": 22
        }
      ]
    },
    {
      "cell_type": "code",
      "source": [
        "# vector operations\n",
        "# arithmetic\n",
        "a1 ** a2"
      ],
      "metadata": {
        "colab": {
          "base_uri": "https://localhost:8080/"
        },
        "id": "klpC7ZxgBcWc",
        "outputId": "dd298270-9a2c-453a-f989-1e7960ed8900"
      },
      "execution_count": 23,
      "outputs": [
        {
          "output_type": "execute_result",
          "data": {
            "text/plain": [
              "array([[                   0,                    1,                16384,\n",
              "                    14348907],\n",
              "       [          4294967296,         762939453125,      101559956668416,\n",
              "           11398895185373143],\n",
              "       [ 1152921504606846976, -1261475310744950487,  1864712049423024128,\n",
              "         6839173302027254275]])"
            ]
          },
          "metadata": {},
          "execution_count": 23
        }
      ]
    },
    {
      "cell_type": "code",
      "source": [
        "a1 = np.random.random((3,3))\n",
        "a2 = np.round(a1*100)\n",
        "a1"
      ],
      "metadata": {
        "colab": {
          "base_uri": "https://localhost:8080/"
        },
        "id": "ff8W5KGMBc4-",
        "outputId": "694c3c93-ee5e-43df-c773-5609bc291e6f"
      },
      "execution_count": 24,
      "outputs": [
        {
          "output_type": "execute_result",
          "data": {
            "text/plain": [
              "array([[0.63889199, 0.33481538, 0.50578921],\n",
              "       [0.13600932, 0.50111247, 0.04445509],\n",
              "       [0.89552839, 0.17116559, 0.30547025]])"
            ]
          },
          "metadata": {},
          "execution_count": 24
        }
      ]
    },
    {
      "cell_type": "code",
      "source": [
        "a2"
      ],
      "metadata": {
        "colab": {
          "base_uri": "https://localhost:8080/"
        },
        "id": "OD9b_cogBc7q",
        "outputId": "a7bb3789-2070-46da-d5e7-4a36bac1e661"
      },
      "execution_count": 25,
      "outputs": [
        {
          "output_type": "execute_result",
          "data": {
            "text/plain": [
              "array([[64., 33., 51.],\n",
              "       [14., 50.,  4.],\n",
              "       [90., 17., 31.]])"
            ]
          },
          "metadata": {},
          "execution_count": 25
        }
      ]
    },
    {
      "cell_type": "code",
      "source": [
        "# max/min/sum/prod\n",
        "# 0 -> col and 1 -> row\n",
        "np.max(a2,axis=0)"
      ],
      "metadata": {
        "colab": {
          "base_uri": "https://localhost:8080/"
        },
        "id": "BuKDKbUIBc-r",
        "outputId": "fecbe4e2-d1d9-4708-fb62-7fc394219ef8"
      },
      "execution_count": 26,
      "outputs": [
        {
          "output_type": "execute_result",
          "data": {
            "text/plain": [
              "array([90., 50., 51.])"
            ]
          },
          "metadata": {},
          "execution_count": 26
        }
      ]
    },
    {
      "cell_type": "code",
      "source": [
        "np.min(a2,axis=0)"
      ],
      "metadata": {
        "colab": {
          "base_uri": "https://localhost:8080/"
        },
        "id": "7r5nbOq4BcZD",
        "outputId": "e14c39bd-5e85-4f45-c6b1-af5defb30a7d"
      },
      "execution_count": 27,
      "outputs": [
        {
          "output_type": "execute_result",
          "data": {
            "text/plain": [
              "array([14., 17.,  4.])"
            ]
          },
          "metadata": {},
          "execution_count": 27
        }
      ]
    },
    {
      "cell_type": "code",
      "source": [
        "# max/min/sum/prod\n",
        "# 0 -> col and 1 -> row\n",
        "np.prod(a2,axis=0)"
      ],
      "metadata": {
        "colab": {
          "base_uri": "https://localhost:8080/"
        },
        "id": "sJWfp2yeBccQ",
        "outputId": "f69f4458-8cac-4e2f-8624-552131a6420b"
      },
      "execution_count": 28,
      "outputs": [
        {
          "output_type": "execute_result",
          "data": {
            "text/plain": [
              "array([80640., 28050.,  6324.])"
            ]
          },
          "metadata": {},
          "execution_count": 28
        }
      ]
    },
    {
      "cell_type": "code",
      "source": [
        "a1 = np.random.random((3,3))\n",
        "a1 = np.round(a1*100)\n",
        "a1"
      ],
      "metadata": {
        "colab": {
          "base_uri": "https://localhost:8080/"
        },
        "id": "lWKFaCClCwyk",
        "outputId": "b7783888-5978-4c48-e82b-72b1839d3a5f"
      },
      "execution_count": 29,
      "outputs": [
        {
          "output_type": "execute_result",
          "data": {
            "text/plain": [
              "array([[52., 65., 82.],\n",
              "       [35., 84., 80.],\n",
              "       [49., 77., 74.]])"
            ]
          },
          "metadata": {},
          "execution_count": 29
        }
      ]
    },
    {
      "cell_type": "code",
      "source": [
        "# mean/median/std/var\n",
        "np.var(a1,axis=1)"
      ],
      "metadata": {
        "colab": {
          "base_uri": "https://localhost:8080/"
        },
        "id": "ntTvFNIBDDEO",
        "outputId": "371a16b3-2b7e-4579-fa95-1bbb5c22db88"
      },
      "execution_count": 30,
      "outputs": [
        {
          "output_type": "execute_result",
          "data": {
            "text/plain": [
              "array([150.88888889, 493.55555556, 157.55555556])"
            ]
          },
          "metadata": {},
          "execution_count": 30
        }
      ]
    },
    {
      "cell_type": "code",
      "source": [
        "# trigonomoetric functions\n",
        "np.sin(a1)"
      ],
      "metadata": {
        "colab": {
          "base_uri": "https://localhost:8080/"
        },
        "id": "hQD4ilT1DGJz",
        "outputId": "745c3dc3-50af-4ed8-bf5c-0a1cf3adb0f7"
      },
      "execution_count": 31,
      "outputs": [
        {
          "output_type": "execute_result",
          "data": {
            "text/plain": [
              "array([[ 0.98662759,  0.82682868,  0.31322878],\n",
              "       [-0.42818267,  0.73319032, -0.99388865],\n",
              "       [-0.95375265,  0.99952016, -0.98514626]])"
            ]
          },
          "metadata": {},
          "execution_count": 31
        }
      ]
    },
    {
      "cell_type": "code",
      "source": [
        "# dot product\n",
        "a2 = np.arange(12).reshape(3,4)\n",
        "a3 = np.arange(12,24).reshape(4,3)\n",
        "\n",
        "np.dot(a2,a3)"
      ],
      "metadata": {
        "colab": {
          "base_uri": "https://localhost:8080/"
        },
        "id": "zdV8MblcDGMg",
        "outputId": "cee90112-eaaf-48bd-beac-111ee15b776b"
      },
      "execution_count": 32,
      "outputs": [
        {
          "output_type": "execute_result",
          "data": {
            "text/plain": [
              "array([[114, 120, 126],\n",
              "       [378, 400, 422],\n",
              "       [642, 680, 718]])"
            ]
          },
          "metadata": {},
          "execution_count": 32
        }
      ]
    },
    {
      "cell_type": "code",
      "source": [
        "# log and exponents\n",
        "np.exp(a1)"
      ],
      "metadata": {
        "colab": {
          "base_uri": "https://localhost:8080/"
        },
        "id": "ApYKP_mSDGPV",
        "outputId": "349ff8c4-814c-46d4-fe6f-360afba1422a"
      },
      "execution_count": 33,
      "outputs": [
        {
          "output_type": "execute_result",
          "data": {
            "text/plain": [
              "array([[3.83100800e+22, 1.69488924e+28, 4.09399696e+35],\n",
              "       [1.58601345e+15, 3.02507732e+36, 5.54062238e+34],\n",
              "       [1.90734657e+21, 2.75851345e+33, 1.37338298e+32]])"
            ]
          },
          "metadata": {},
          "execution_count": 33
        }
      ]
    },
    {
      "cell_type": "code",
      "source": [
        "# round/floor/ceil\n",
        "\n",
        "np.ceil(np.random.random((2,3))*100)"
      ],
      "metadata": {
        "colab": {
          "base_uri": "https://localhost:8080/"
        },
        "id": "4y50DUJ9DGSC",
        "outputId": "161e5c02-c2ac-497b-b453-7eba68ea5b71"
      },
      "execution_count": 34,
      "outputs": [
        {
          "output_type": "execute_result",
          "data": {
            "text/plain": [
              "array([[92.,  8., 15.],\n",
              "       [17., 17., 34.]])"
            ]
          },
          "metadata": {},
          "execution_count": 34
        }
      ]
    },
    {
      "cell_type": "code",
      "source": [
        "# round/floor/ceil\n",
        "\n",
        "np.ceil(np.random.random((2,3))*100)"
      ],
      "metadata": {
        "colab": {
          "base_uri": "https://localhost:8080/"
        },
        "id": "bcbBx_A2DDHT",
        "outputId": "e8e9060c-fc4d-4dbf-94ce-14b164671b51"
      },
      "execution_count": 35,
      "outputs": [
        {
          "output_type": "execute_result",
          "data": {
            "text/plain": [
              "array([[74., 66., 66.],\n",
              "       [96., 85., 21.]])"
            ]
          },
          "metadata": {},
          "execution_count": 35
        }
      ]
    },
    {
      "cell_type": "code",
      "source": [
        "# Indexing and Slicing\n",
        "\n",
        "a1 = np.arange(10)\n",
        "a2 = np.arange(12).reshape(3,4)\n",
        "a3 = np.arange(8).reshape(2,2,2)\n",
        "\n",
        "a2"
      ],
      "metadata": {
        "colab": {
          "base_uri": "https://localhost:8080/"
        },
        "id": "KptuxxnQDkln",
        "outputId": "52ea3ef8-abe4-4341-9d5f-4a3caf5662f3"
      },
      "execution_count": 36,
      "outputs": [
        {
          "output_type": "execute_result",
          "data": {
            "text/plain": [
              "array([[ 0,  1,  2,  3],\n",
              "       [ 4,  5,  6,  7],\n",
              "       [ 8,  9, 10, 11]])"
            ]
          },
          "metadata": {},
          "execution_count": 36
        }
      ]
    },
    {
      "cell_type": "code",
      "source": [
        "a2[1,0]"
      ],
      "metadata": {
        "colab": {
          "base_uri": "https://localhost:8080/"
        },
        "id": "7rjdWJT8Dkor",
        "outputId": "1d8ac76b-cd69-4501-f166-38326d240b02"
      },
      "execution_count": 37,
      "outputs": [
        {
          "output_type": "execute_result",
          "data": {
            "text/plain": [
              "4"
            ]
          },
          "metadata": {},
          "execution_count": 37
        }
      ]
    },
    {
      "cell_type": "code",
      "source": [
        "a3"
      ],
      "metadata": {
        "id": "BC5h2w6iD8z3",
        "outputId": "4e9c3a52-d147-4c01-d77c-dd162eee61f4",
        "colab": {
          "base_uri": "https://localhost:8080/"
        }
      },
      "execution_count": 38,
      "outputs": [
        {
          "output_type": "execute_result",
          "data": {
            "text/plain": [
              "array([[[0, 1],\n",
              "        [2, 3]],\n",
              "\n",
              "       [[4, 5],\n",
              "        [6, 7]]])"
            ]
          },
          "metadata": {},
          "execution_count": 38
        }
      ]
    },
    {
      "cell_type": "code",
      "source": [
        "a3[1,0,1]"
      ],
      "metadata": {
        "colab": {
          "base_uri": "https://localhost:8080/"
        },
        "id": "FRWnDfGyDkrW",
        "outputId": "f0b22cab-f5a5-4cc3-cf90-2ebb23c1fbd9"
      },
      "execution_count": 39,
      "outputs": [
        {
          "output_type": "execute_result",
          "data": {
            "text/plain": [
              "5"
            ]
          },
          "metadata": {},
          "execution_count": 39
        }
      ]
    },
    {
      "cell_type": "code",
      "source": [
        "a1[2:5:2]"
      ],
      "metadata": {
        "id": "yt3HCjxIDDJ7",
        "colab": {
          "base_uri": "https://localhost:8080/"
        },
        "outputId": "7a75d27f-df2b-41a4-e0bb-b87f693f61ff"
      },
      "execution_count": 40,
      "outputs": [
        {
          "output_type": "execute_result",
          "data": {
            "text/plain": [
              "array([2, 4])"
            ]
          },
          "metadata": {},
          "execution_count": 40
        }
      ]
    },
    {
      "cell_type": "code",
      "source": [
        "a2"
      ],
      "metadata": {
        "colab": {
          "base_uri": "https://localhost:8080/"
        },
        "id": "UIvcPW1cxUXy",
        "outputId": "484a0c9f-acef-46a8-ad34-72f2289701be"
      },
      "execution_count": 41,
      "outputs": [
        {
          "output_type": "execute_result",
          "data": {
            "text/plain": [
              "array([[ 0,  1,  2,  3],\n",
              "       [ 4,  5,  6,  7],\n",
              "       [ 8,  9, 10, 11]])"
            ]
          },
          "metadata": {},
          "execution_count": 41
        }
      ]
    },
    {
      "cell_type": "code",
      "source": [
        "a2[0,:]"
      ],
      "metadata": {
        "colab": {
          "base_uri": "https://localhost:8080/"
        },
        "id": "cBKsoKJpxUad",
        "outputId": "be963b5f-c5eb-4618-f463-18f1fceade37"
      },
      "execution_count": 42,
      "outputs": [
        {
          "output_type": "execute_result",
          "data": {
            "text/plain": [
              "array([0, 1, 2, 3])"
            ]
          },
          "metadata": {},
          "execution_count": 42
        }
      ]
    },
    {
      "cell_type": "code",
      "source": [
        "a2[:,2]"
      ],
      "metadata": {
        "colab": {
          "base_uri": "https://localhost:8080/"
        },
        "id": "tT1FDYgcxUdD",
        "outputId": "9999d430-e7b6-4c4a-d86b-dbfadfa0b62e"
      },
      "execution_count": 43,
      "outputs": [
        {
          "output_type": "execute_result",
          "data": {
            "text/plain": [
              "array([ 2,  6, 10])"
            ]
          },
          "metadata": {},
          "execution_count": 43
        }
      ]
    },
    {
      "cell_type": "code",
      "source": [
        "a2[0:2,1:3]"
      ],
      "metadata": {
        "colab": {
          "base_uri": "https://localhost:8080/"
        },
        "id": "nRitVa4nxUf0",
        "outputId": "b36195ba-ee9a-44e0-9884-bd776e39ee19"
      },
      "execution_count": 44,
      "outputs": [
        {
          "output_type": "execute_result",
          "data": {
            "text/plain": [
              "array([[1, 2],\n",
              "       [5, 6]])"
            ]
          },
          "metadata": {},
          "execution_count": 44
        }
      ]
    },
    {
      "cell_type": "code",
      "source": [
        "a2"
      ],
      "metadata": {
        "colab": {
          "base_uri": "https://localhost:8080/"
        },
        "id": "gMgA0zf6zFgR",
        "outputId": "f6423dae-8dbf-475d-84fc-12173d68fd3b"
      },
      "execution_count": 46,
      "outputs": [
        {
          "output_type": "execute_result",
          "data": {
            "text/plain": [
              "array([[ 0,  1,  2,  3],\n",
              "       [ 4,  5,  6,  7],\n",
              "       [ 8,  9, 10, 11]])"
            ]
          },
          "metadata": {},
          "execution_count": 46
        }
      ]
    },
    {
      "cell_type": "code",
      "source": [
        "a2[::2,1::2]"
      ],
      "metadata": {
        "colab": {
          "base_uri": "https://localhost:8080/"
        },
        "id": "269leHUMyZqW",
        "outputId": "507ea58b-52a2-4470-8ba3-8d3f712ba49b"
      },
      "execution_count": 45,
      "outputs": [
        {
          "output_type": "execute_result",
          "data": {
            "text/plain": [
              "array([[ 1,  3],\n",
              "       [ 9, 11]])"
            ]
          },
          "metadata": {},
          "execution_count": 45
        }
      ]
    },
    {
      "cell_type": "code",
      "source": [
        "a2[1,::3]"
      ],
      "metadata": {
        "colab": {
          "base_uri": "https://localhost:8080/"
        },
        "id": "cMNh6b8tyZtY",
        "outputId": "f950c9f9-c329-4217-fd64-f8632560aa79"
      },
      "execution_count": 47,
      "outputs": [
        {
          "output_type": "execute_result",
          "data": {
            "text/plain": [
              "array([4, 7])"
            ]
          },
          "metadata": {},
          "execution_count": 47
        }
      ]
    },
    {
      "cell_type": "code",
      "source": [
        "a3 = np.arange(27).reshape(3,3,3)\n",
        "a3"
      ],
      "metadata": {
        "colab": {
          "base_uri": "https://localhost:8080/"
        },
        "id": "nkTCWg0FyZy0",
        "outputId": "99fdd33d-127b-45b8-e923-14d5230f2fcc"
      },
      "execution_count": 49,
      "outputs": [
        {
          "output_type": "execute_result",
          "data": {
            "text/plain": [
              "array([[[ 0,  1,  2],\n",
              "        [ 3,  4,  5],\n",
              "        [ 6,  7,  8]],\n",
              "\n",
              "       [[ 9, 10, 11],\n",
              "        [12, 13, 14],\n",
              "        [15, 16, 17]],\n",
              "\n",
              "       [[18, 19, 20],\n",
              "        [21, 22, 23],\n",
              "        [24, 25, 26]]])"
            ]
          },
          "metadata": {},
          "execution_count": 49
        }
      ]
    },
    {
      "cell_type": "code",
      "source": [
        "a3[::2,0,::2]"
      ],
      "metadata": {
        "colab": {
          "base_uri": "https://localhost:8080/"
        },
        "id": "CJPTfxONyZ1o",
        "outputId": "68c384bb-22c4-4577-c7d4-90beedc3ca7d"
      },
      "execution_count": 50,
      "outputs": [
        {
          "output_type": "execute_result",
          "data": {
            "text/plain": [
              "array([[ 0,  2],\n",
              "       [18, 20]])"
            ]
          },
          "metadata": {},
          "execution_count": 50
        }
      ]
    },
    {
      "cell_type": "code",
      "source": [
        "a3[2,1:,1:]"
      ],
      "metadata": {
        "colab": {
          "base_uri": "https://localhost:8080/"
        },
        "id": "rw0wfP9pyZ4e",
        "outputId": "6aef07d1-b359-49a1-ff1e-30cdada2f734"
      },
      "execution_count": 51,
      "outputs": [
        {
          "output_type": "execute_result",
          "data": {
            "text/plain": [
              "array([[22, 23],\n",
              "       [25, 26]])"
            ]
          },
          "metadata": {},
          "execution_count": 51
        }
      ]
    },
    {
      "cell_type": "code",
      "source": [
        "a3[0,1,:]"
      ],
      "metadata": {
        "colab": {
          "base_uri": "https://localhost:8080/"
        },
        "id": "EXaiy85OyZ7m",
        "outputId": "7337d760-555e-402b-a006-f5c82fe0b588"
      },
      "execution_count": 52,
      "outputs": [
        {
          "output_type": "execute_result",
          "data": {
            "text/plain": [
              "array([3, 4, 5])"
            ]
          },
          "metadata": {},
          "execution_count": 52
        }
      ]
    },
    {
      "cell_type": "code",
      "source": [
        "a1"
      ],
      "metadata": {
        "colab": {
          "base_uri": "https://localhost:8080/"
        },
        "id": "ixPrAAtN1JhN",
        "outputId": "b0a072a6-b240-4344-ac2d-e4ed660b7245"
      },
      "execution_count": 53,
      "outputs": [
        {
          "output_type": "execute_result",
          "data": {
            "text/plain": [
              "array([0, 1, 2, 3, 4, 5, 6, 7, 8, 9])"
            ]
          },
          "metadata": {},
          "execution_count": 53
        }
      ]
    },
    {
      "cell_type": "code",
      "source": [
        "for i in a1:\n",
        "    print(i)"
      ],
      "metadata": {
        "colab": {
          "base_uri": "https://localhost:8080/"
        },
        "id": "3RGPxVB11JkL",
        "outputId": "ca24d193-fd38-4cb7-c93e-2e067d0c755a"
      },
      "execution_count": 54,
      "outputs": [
        {
          "output_type": "stream",
          "name": "stdout",
          "text": [
            "0\n",
            "1\n",
            "2\n",
            "3\n",
            "4\n",
            "5\n",
            "6\n",
            "7\n",
            "8\n",
            "9\n"
          ]
        }
      ]
    },
    {
      "cell_type": "code",
      "source": [
        "a2"
      ],
      "metadata": {
        "colab": {
          "base_uri": "https://localhost:8080/"
        },
        "id": "DL8CEFxe1JnI",
        "outputId": "8fa7bec3-98c8-4302-8825-8cdb0cc3c401"
      },
      "execution_count": 55,
      "outputs": [
        {
          "output_type": "execute_result",
          "data": {
            "text/plain": [
              "array([[ 0,  1,  2,  3],\n",
              "       [ 4,  5,  6,  7],\n",
              "       [ 8,  9, 10, 11]])"
            ]
          },
          "metadata": {},
          "execution_count": 55
        }
      ]
    },
    {
      "cell_type": "code",
      "source": [
        "for i in a2:\n",
        "    print(i)"
      ],
      "metadata": {
        "colab": {
          "base_uri": "https://localhost:8080/"
        },
        "id": "gshynFGW1Jp8",
        "outputId": "d1c9bcfd-14f9-4204-fbbc-9b08e10c825c"
      },
      "execution_count": 56,
      "outputs": [
        {
          "output_type": "stream",
          "name": "stdout",
          "text": [
            "[0 1 2 3]\n",
            "[4 5 6 7]\n",
            "[ 8  9 10 11]\n"
          ]
        }
      ]
    },
    {
      "cell_type": "code",
      "source": [
        "for i in a3:\n",
        "    print(a3)"
      ],
      "metadata": {
        "colab": {
          "base_uri": "https://localhost:8080/"
        },
        "id": "Gz3L4KTu1Szp",
        "outputId": "344c2f0e-be15-41ed-ec23-83637c45ab5a"
      },
      "execution_count": 57,
      "outputs": [
        {
          "output_type": "stream",
          "name": "stdout",
          "text": [
            "[[[ 0  1  2]\n",
            "  [ 3  4  5]\n",
            "  [ 6  7  8]]\n",
            "\n",
            " [[ 9 10 11]\n",
            "  [12 13 14]\n",
            "  [15 16 17]]\n",
            "\n",
            " [[18 19 20]\n",
            "  [21 22 23]\n",
            "  [24 25 26]]]\n",
            "[[[ 0  1  2]\n",
            "  [ 3  4  5]\n",
            "  [ 6  7  8]]\n",
            "\n",
            " [[ 9 10 11]\n",
            "  [12 13 14]\n",
            "  [15 16 17]]\n",
            "\n",
            " [[18 19 20]\n",
            "  [21 22 23]\n",
            "  [24 25 26]]]\n",
            "[[[ 0  1  2]\n",
            "  [ 3  4  5]\n",
            "  [ 6  7  8]]\n",
            "\n",
            " [[ 9 10 11]\n",
            "  [12 13 14]\n",
            "  [15 16 17]]\n",
            "\n",
            " [[18 19 20]\n",
            "  [21 22 23]\n",
            "  [24 25 26]]]\n"
          ]
        }
      ]
    },
    {
      "cell_type": "code",
      "source": [
        "for i in np.nditer(a3):\n",
        "    print(i)"
      ],
      "metadata": {
        "colab": {
          "base_uri": "https://localhost:8080/"
        },
        "id": "H4Ve5lBc1ktI",
        "outputId": "8dfb3445-85ae-4804-94d0-544aa946b4eb"
      },
      "execution_count": 58,
      "outputs": [
        {
          "output_type": "stream",
          "name": "stdout",
          "text": [
            "0\n",
            "1\n",
            "2\n",
            "3\n",
            "4\n",
            "5\n",
            "6\n",
            "7\n",
            "8\n",
            "9\n",
            "10\n",
            "11\n",
            "12\n",
            "13\n",
            "14\n",
            "15\n",
            "16\n",
            "17\n",
            "18\n",
            "19\n",
            "20\n",
            "21\n",
            "22\n",
            "23\n",
            "24\n",
            "25\n",
            "26\n"
          ]
        }
      ]
    },
    {
      "cell_type": "code",
      "source": [
        "np.transpose(a2)"
      ],
      "metadata": {
        "colab": {
          "base_uri": "https://localhost:8080/"
        },
        "id": "CW_hTxEr1kv7",
        "outputId": "13a2b15e-1c28-4e4c-9bb9-cd909772a78d"
      },
      "execution_count": 59,
      "outputs": [
        {
          "output_type": "execute_result",
          "data": {
            "text/plain": [
              "array([[ 0,  4,  8],\n",
              "       [ 1,  5,  9],\n",
              "       [ 2,  6, 10],\n",
              "       [ 3,  7, 11]])"
            ]
          },
          "metadata": {},
          "execution_count": 59
        }
      ]
    },
    {
      "cell_type": "code",
      "source": [
        "a2.T"
      ],
      "metadata": {
        "colab": {
          "base_uri": "https://localhost:8080/"
        },
        "id": "D4FGk85d1kyv",
        "outputId": "8d72b2fb-7414-455d-b92e-f3870565835f"
      },
      "execution_count": 60,
      "outputs": [
        {
          "output_type": "execute_result",
          "data": {
            "text/plain": [
              "array([[ 0,  4,  8],\n",
              "       [ 1,  5,  9],\n",
              "       [ 2,  6, 10],\n",
              "       [ 3,  7, 11]])"
            ]
          },
          "metadata": {},
          "execution_count": 60
        }
      ]
    },
    {
      "cell_type": "code",
      "source": [
        "# ravel : converts multidimension array to single dimension\n",
        "a3.ravel()"
      ],
      "metadata": {
        "colab": {
          "base_uri": "https://localhost:8080/"
        },
        "id": "-hm9Xjo91k1m",
        "outputId": "f1f2460c-e848-43bb-b4e7-f580b1d002da"
      },
      "execution_count": 62,
      "outputs": [
        {
          "output_type": "execute_result",
          "data": {
            "text/plain": [
              "array([ 0,  1,  2,  3,  4,  5,  6,  7,  8,  9, 10, 11, 12, 13, 14, 15, 16,\n",
              "       17, 18, 19, 20, 21, 22, 23, 24, 25, 26])"
            ]
          },
          "metadata": {},
          "execution_count": 62
        }
      ]
    },
    {
      "cell_type": "code",
      "source": [
        "# np.hstack : to compress two array--> vstack,hstack\n",
        "# splitting : hsplit, vsplit"
      ],
      "metadata": {
        "id": "e3JUAvhv1k5I"
      },
      "execution_count": null,
      "outputs": []
    }
  ]
}